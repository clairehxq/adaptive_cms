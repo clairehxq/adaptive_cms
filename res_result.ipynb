{
 "cells": [
  {
   "cell_type": "code",
   "execution_count": 18,
   "metadata": {
    "scrolled": true
   },
   "outputs": [
    {
     "name": "stdout",
     "output_type": "stream",
     "text": [
      "Populating the interactive namespace from numpy and matplotlib\n"
     ]
    }
   ],
   "source": [
    "import pandas as pd\n",
    "import numpy as np\n",
    "import matplotlib.pyplot as plt\n",
    "%pylab inline\n",
    "\n",
    "def error(est, tr):\n",
    "    return 1.0 * np.abs(est-tr) / tr\n",
    "\n",
    "def error_dt(row):\n",
    "    return error(row['adaptives'], row['true_count']), error(row['big_cms'], row['true_count']), \\\n",
    "            error(row['cms'], row['true_count']), row['true_count']\n",
    "\n",
    "def read_res(f):\n",
    "    adaptives = []\n",
    "    big_cmss = []\n",
    "    cmss = []\n",
    "    true_counts = []\n",
    "    #64_4_16_1000_4096\n",
    "    width, depth, layers, threshold, memory = list(map(int, f.split('_')))\n",
    "    small_w = width\n",
    "    with open('res/'+f, 'r') as f:\n",
    "    #with open('res_zipf', 'r') as f:\n",
    "        res = f.readlines()\n",
    "\n",
    "    for l in res:\n",
    "        adaptive, big_cms, cms, true_count = l.split(',')\n",
    "        #keys.append(k1)\n",
    "        adaptives.append(int(adaptive))\n",
    "        big_cmss.append(int(big_cms))\n",
    "        cmss.append(int(cms))\n",
    "        true_counts.append(int(true_count))\n",
    "\n",
    "    d = pd.DataFrame(columns=['adaptives',\n",
    "                             'big_cms',\n",
    "                             'cms',\n",
    "                             'true_count'])\n",
    "\n",
    "    d.adaptives = adaptives\n",
    "    d.big_cms = big_cmss\n",
    "    d.cms = cmss\n",
    "    d.true_count = true_counts\n",
    "    d.sort_values('true_count', ascending=False, inplace=True)\n",
    "    d_error = d.apply(error_dt, axis=1)\n",
    "    d_err = pd.DataFrame()\n",
    "    d_err['adap'] = list(map(lambda x: x[0], d_error))\n",
    "    d_err['big_cms'] = list(map(lambda x: x[1], d_error))\n",
    "    d_err['cms'] = list(map(lambda x: x[2], d_error))\n",
    "\n",
    "    big_w = small_w * layers\n",
    "    small_epsilon = np.e / small_w\n",
    "    big_epsilon = np.e / big_w\n",
    "\n",
    "    s_add_error = small_epsilon * sum(d.true_count)\n",
    "    b_add_error = big_epsilon * sum(d.true_count)\n",
    "\n",
    "    d_err['cms_error_bound'] = list(map(lambda x: 1.0 * (s_add_error) / x[3], d_error))\n",
    "    d_err['bcms_error_bound'] = list(map(lambda x: 1.0 * (b_add_error) / x[3], d_error))\n",
    "\n",
    "    m_error = np.mean(d_err[:(1<<10)])\n",
    "    m_error_a = np.mean(d_err)\n",
    "\n",
    "    return d\n",
    "\n",
    "def plot(f='adaptive_res.txt', small_w=256, depth=8, layers=8):    \n",
    "    adaptives = []\n",
    "    big_cmss = []\n",
    "    cmss = []\n",
    "    true_counts = []\n",
    "    with open(f, 'r') as f:\n",
    "    #with open('res_zipf', 'r') as f:\n",
    "        res = f.readlines()\n",
    "\n",
    "    for l in res:\n",
    "        adaptive, big_cms, cms, true_count = l.split(',')\n",
    "        #keys.append(k1)\n",
    "        adaptives.append(int(adaptive))\n",
    "        big_cmss.append(int(big_cms))\n",
    "        cmss.append(int(cms))\n",
    "        true_counts.append(int(true_count))\n",
    "\n",
    "    d = pd.DataFrame(columns=['adaptives',\n",
    "                             'big_cms',\n",
    "                             'cms',\n",
    "                             'true_count'])\n",
    "\n",
    "    d.adaptives = adaptives\n",
    "    d.big_cms = big_cmss\n",
    "    d.cms = cmss\n",
    "    d.true_count = true_counts\n",
    "    d.sort_values('true_count', ascending=False, inplace=True)\n",
    "    d_error = d.apply(error_dt, axis=1)\n",
    "    d_err = pd.DataFrame()\n",
    "    d_err['adap'] = list(map(lambda x: x[0], d_error))\n",
    "    d_err['big_cms'] = list(map(lambda x: x[1], d_error))\n",
    "    d_err['cms'] = list(map(lambda x: x[2], d_error))\n",
    "\n",
    "    \n",
    "    big_w = small_w * layers\n",
    "    small_epsilon = np.e / small_w\n",
    "    big_epsilon = np.e / big_w\n",
    "\n",
    "    s_add_error = small_epsilon * sum(d.true_count)\n",
    "    b_add_error = big_epsilon * sum(d.true_count)\n",
    "\n",
    "    d_err['cms_error_bound'] = list(map(lambda x: 1.0 * (s_add_error) / x[3], d_error))\n",
    "    d_err['bcms_error_bound'] = list(map(lambda x: 1.0 * (b_add_error) / x[3], d_error))\n",
    "\n",
    "    m_error = np.mean(d_err[:(1<<10)])\n",
    "    m_error_a = np.mean(d_err)\n",
    "\n",
    "    d_err[:(1<<10)].plot(title = 'Width {}, depth {}'.format(small_w, 8),\\\n",
    "                        figsize=(15,15),\\\n",
    "                        )\n",
    "    plt.xlabel('rank')\n",
    "    plt.ylabel('error rate')\n",
    "    plt.text(1<<9,d_err[:1<<10].max(axis=0 ).max(), \n",
    "             'topk mean error, adaptive {:0.2f}, cms {:0.2f}, big cms {:0.2f} \\\n",
    "             mean error, adaptive {:0.2f}, cms {:0.2f}, big cms {:0.2f}'.\n",
    "             format(m_error['adap'], m_error['cms'], m_error['big_cms'],\\\n",
    "                   m_error_a['adap'], m_error_a['cms'], m_error_a['big_cms']), ha='center')\n",
    "    \n",
    "    plt.savefig('figures/{}_width{}_depth{}_rows{}.png'.format(file,small_w, depth, layers))\n",
    "    return 0\n",
    "\n",
    "def plot_topk(file='adaptive_res.txt', small_w=256, depth=8, layers=8, topk=10):    \n",
    "    adaptives = []\n",
    "    big_cmss = []\n",
    "    cmss = []\n",
    "    true_counts = []\n",
    "    with open(file, 'r') as f:\n",
    "    #with open('res_zipf', 'r') as f:\n",
    "        res = f.readlines()\n",
    "\n",
    "    for l in res:\n",
    "        adaptive, big_cms, cms, true_count = l.split(',')\n",
    "        #keys.append(k1)\n",
    "        adaptives.append(int(adaptive))\n",
    "        big_cmss.append(int(big_cms))\n",
    "        cmss.append(int(cms))\n",
    "        true_counts.append(int(true_count))\n",
    "\n",
    "    d = pd.DataFrame(columns=['adaptives',\n",
    "                             'big_cms',\n",
    "                             'cms',\n",
    "                             'true_count'])\n",
    "    \n",
    "    d.adaptives = adaptives\n",
    "    d.big_cms = big_cmss\n",
    "    d.cms = cmss\n",
    "    d.true_count = true_counts\n",
    "    d.sort_values('true_count', ascending=False, inplace=True)\n",
    "    d_error = d.apply(error_dt, axis=1)\n",
    "    d_err = pd.DataFrame()\n",
    "    d_err['adapatives'] = list(map(lambda x: x[0], d_error))\n",
    "    d_err['big_cms'] = list(map(lambda x: x[1], d_error))\n",
    "    d_err['cms'] = list(map(lambda x: x[2], d_error))\n",
    "    big_w = small_w * layers\n",
    "    small_epsilon = np.e / small_w\n",
    "    big_epsilon = np.e / big_w\n",
    "\n",
    "    s_add_error = small_epsilon * sum(d.true_count)\n",
    "    b_add_error = big_epsilon * sum(d.true_count)\n",
    "\n",
    "    d_err['cms_error_bound'] = list(map(lambda x: 1.0 * (s_add_error) / x[3], d_error))\n",
    "    d_err['bcms_error_bound'] = list(map(lambda x: 1.0 * (b_add_error) / x[3], d_error))\n",
    "\n",
    "    m_error = np.mean(d_err[:topk])\n",
    "    m_error_a = np.mean(d_err)\n",
    "\n",
    "    plt.figure()\n",
    "    d_err_p = d_err.loc[:topk, ['big_cms', 'adapatives']]\n",
    "    d_err_p.plot(\n",
    "        title = 'Width {}, depth {}, rows {}, top{}'.format(small_w, depth, layers, topk),\\\n",
    "        figsize=(15,15),\n",
    "            )\n",
    "    plt.xlabel('rank')\n",
    "    plt.ylabel('error rate')\n",
    "    plt.text(topk/2 ,d_err_p.max(axis=1 ).max(), \n",
    "             'top{} mean error, adaptive {:0.2f}, cms {:0.2f}, big cms {:0.2f}, \\\n",
    "             mean error, adaptive {:0.2f}, cms {:0.2f}, big cms {:0.2f}'.\n",
    "             format(topk, m_error['adapatives'], m_error['cms'], m_error['big_cms'],\\\n",
    "                   m_error_a['adapatives'], m_error_a['cms'], m_error_a['big_cms']), ha='center')\n",
    "    \n",
    "    plt.savefig('figures/{}_width{}_depth{}_rows{}_top{}'.format(file, small_w, depth, layers, topk))\n",
    "    return 0"
   ]
  },
  {
   "cell_type": "code",
   "execution_count": 21,
   "metadata": {},
   "outputs": [],
   "source": [
    "import os\n",
    "\n",
    "r = {}\n",
    "for dirpath, dirnames, filenames in os.walk('./res/'):\n",
    "    for f in filenames:\n",
    "        if f.endswith('4096'):\n",
    "            r[f] = read_res(f)"
   ]
  },
  {
   "cell_type": "code",
   "execution_count": 23,
   "metadata": {},
   "outputs": [
    {
     "data": {
      "text/plain": [
       "['256_4_4_1000_4096',\n",
       " '256_8_2_1000_4096',\n",
       " '512_4_2_1000_4096',\n",
       " '128_4_8_1000_4096',\n",
       " '64_4_16_1000_4096',\n",
       " '64_8_8_1000_4096',\n",
       " '128_8_4_1000_4096']"
      ]
     },
     "execution_count": 23,
     "metadata": {},
     "output_type": "execute_result"
    }
   ],
   "source": [
    "r.keys()"
   ]
  },
  {
   "cell_type": "code",
   "execution_count": 2,
   "metadata": {},
   "outputs": [],
   "source": [
    "import seaborn as sns"
   ]
  },
  {
   "cell_type": "code",
   "execution_count": 3,
   "metadata": {},
   "outputs": [],
   "source": [
    "sns.boxplot?"
   ]
  },
  {
   "cell_type": "code",
   "execution_count": 2,
   "metadata": {},
   "outputs": [
    {
     "data": {
      "text/plain": [
       "0"
      ]
     },
     "execution_count": 2,
     "metadata": {},
     "output_type": "execute_result"
    },
    {
     "data": {
      "text/plain": [
       "<Figure size 432x288 with 0 Axes>"
      ]
     },
     "metadata": {},
     "output_type": "display_data"
    },
    {
     "data": {
      "image/png": "[encoded data removed]",
      "text/plain": [
       "<Figure size 1080x1080 with 1 Axes>"
      ]
     },
     "metadata": {},
     "output_type": "display_data"
    }
   ],
   "source": [
    "plot_topk('res_zipf', 1<<4, 1<<3, 1<<3, 100)"
   ]
  },
  {
   "cell_type": "code",
   "execution_count": 378,
   "metadata": {},
   "outputs": [
    {
     "data": {
      "text/plain": [
       "1024"
      ]
     },
     "execution_count": 378,
     "metadata": {},
     "output_type": "execute_result"
    }
   ],
   "source": [
    "16 * 8 * 8"
   ]
  },
  {
   "cell_type": "code",
   "execution_count": 336,
   "metadata": {},
   "outputs": [
    {
     "name": "stderr",
     "output_type": "stream",
     "text": [
      "/home/ch/anaconda3/lib/python3.7/site-packages/pandas/core/indexing.py:1494: FutureWarning: \n",
      "Passing list-likes to .loc or [] with any missing label will raise\n",
      "KeyError in the future, you can use .reindex() as an alternative.\n",
      "\n",
      "See the documentation here:\n",
      "https://pandas.pydata.org/pandas-docs/stable/indexing.html#deprecate-loc-reindex-listlike\n",
      "  return self._getitem_tuple(key)\n"
     ]
    },
    {
     "data": {
      "text/html": [
       "<div>\n",
       "<style scoped>\n",
       "    .dataframe tbody tr th:only-of-type {\n",
       "        vertical-align: middle;\n",
       "    }\n",
       "\n",
       "    .dataframe tbody tr th {\n",
       "        vertical-align: top;\n",
       "    }\n",
       "\n",
       "    .dataframe thead th {\n",
       "        text-align: right;\n",
       "    }\n",
       "</style>\n",
       "<table border=\"1\" class=\"dataframe\">\n",
       "  <thead>\n",
       "    <tr style=\"text-align: right;\">\n",
       "      <th></th>\n",
       "      <th>big_cms</th>\n",
       "      <th>adaptives</th>\n",
       "    </tr>\n",
       "  </thead>\n",
       "  <tbody>\n",
       "    <tr>\n",
       "      <th>0</th>\n",
       "      <td>0.021634</td>\n",
       "      <td>NaN</td>\n",
       "    </tr>\n",
       "    <tr>\n",
       "      <th>1</th>\n",
       "      <td>0.043108</td>\n",
       "      <td>NaN</td>\n",
       "    </tr>\n",
       "    <tr>\n",
       "      <th>2</th>\n",
       "      <td>0.050745</td>\n",
       "      <td>NaN</td>\n",
       "    </tr>\n",
       "    <tr>\n",
       "      <th>3</th>\n",
       "      <td>0.065896</td>\n",
       "      <td>NaN</td>\n",
       "    </tr>\n",
       "    <tr>\n",
       "      <th>4</th>\n",
       "      <td>0.100298</td>\n",
       "      <td>NaN</td>\n",
       "    </tr>\n",
       "    <tr>\n",
       "      <th>5</th>\n",
       "      <td>0.117691</td>\n",
       "      <td>NaN</td>\n",
       "    </tr>\n",
       "    <tr>\n",
       "      <th>6</th>\n",
       "      <td>0.036830</td>\n",
       "      <td>NaN</td>\n",
       "    </tr>\n",
       "    <tr>\n",
       "      <th>7</th>\n",
       "      <td>0.041768</td>\n",
       "      <td>NaN</td>\n",
       "    </tr>\n",
       "    <tr>\n",
       "      <th>8</th>\n",
       "      <td>0.076231</td>\n",
       "      <td>NaN</td>\n",
       "    </tr>\n",
       "    <tr>\n",
       "      <th>9</th>\n",
       "      <td>0.084971</td>\n",
       "      <td>NaN</td>\n",
       "    </tr>\n",
       "    <tr>\n",
       "      <th>10</th>\n",
       "      <td>0.272109</td>\n",
       "      <td>NaN</td>\n",
       "    </tr>\n",
       "  </tbody>\n",
       "</table>\n",
       "</div>"
      ],
      "text/plain": [
       "     big_cms  adaptives\n",
       "0   0.021634        NaN\n",
       "1   0.043108        NaN\n",
       "2   0.050745        NaN\n",
       "3   0.065896        NaN\n",
       "4   0.100298        NaN\n",
       "5   0.117691        NaN\n",
       "6   0.036830        NaN\n",
       "7   0.041768        NaN\n",
       "8   0.076231        NaN\n",
       "9   0.084971        NaN\n",
       "10  0.272109        NaN"
      ]
     },
     "execution_count": 336,
     "metadata": {},
     "output_type": "execute_result"
    }
   ],
   "source": [
    "d_err.loc[:10, ['big_cms', 'adaptives']]"
   ]
  }
 ],
 "metadata": {
  "kernelspec": {
   "display_name": "Python 2",
   "language": "python",
   "name": "python2"
  },
  "language_info": {
   "codemirror_mode": {
    "name": "ipython",
    "version": 2
   },
   "file_extension": ".py",
   "mimetype": "text/x-python",
   "name": "python",
   "nbconvert_exporter": "python",
   "pygments_lexer": "ipython2",
   "version": "2.7.15"
  }
 },
 "nbformat": 4,
 "nbformat_minor": 2
}
